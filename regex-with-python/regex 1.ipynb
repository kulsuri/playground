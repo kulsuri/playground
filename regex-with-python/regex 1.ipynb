{
 "cells": [
  {
   "cell_type": "code",
   "execution_count": 11,
   "metadata": {},
   "outputs": [],
   "source": [
    "# import modules\n",
    "import re"
   ]
  },
  {
   "cell_type": "code",
   "execution_count": 15,
   "metadata": {},
   "outputs": [],
   "source": [
    "# open text file, put the contents in variable called data & close text file / open, read , close file\n",
    "names_file = open(\"./data/names.txt\", encoding=\"utf-8\")\n",
    "data = names_file.read()\n",
    "names_file.close()"
   ]
  },
  {
   "cell_type": "code",
   "execution_count": 16,
   "metadata": {},
   "outputs": [
    {
     "name": "stdout",
     "output_type": "stream",
     "text": [
      "Love, Kenneth\tkenneth@teamtreehouse.com\t(555) 555-5555\tTeacher, Treehouse\t@kennethlove\n",
      "McFarland, Dave\tdave@teamtreehouse.com\t(555) 555-5554\tTeacher, Treehouse\n",
      "Arthur, King\tking_arthur@camelot.co.uk\t\tKing, Camelot\n",
      "Österberg, Sven-Erik\tgovernor@norrbotten.co.se\t\tGovernor, Norrbotten\t@sverik\n",
      ", Tim\ttim@killerrabbit.com\t\tEnchanter, Killer Rabbit Cave\n",
      "Carson, Ryan\tryan@teamtreehouse.com\t(555) 555-5543\tCEO, Treehouse\t@ryancarson\n",
      "Doctor, The\tdoctor+companion@tardis.co.uk\t\tTime Lord, Gallifrey\n",
      "Exampleson, Example\tme@example.com\t555-555-5552\tExample, Example Co.\t@example\n",
      "Obama, Barack\tpresident.44@us.gov\t555 555-5551\tPresident, United States of America\t@potus44\n",
      "Chalkley, Andrew\tandrew@teamtreehouse.com\t(555) 555-5553\tTeacher, Treehouse\t@chalkers\n",
      "Vader, Darth\tdarth-vader@empire.gov\t(555) 555-4444\tSith Lord, Galactic Empire\t@darthvader\n",
      "Fernández de la Vega Sanz, María Teresa\tmtfvs@spain.gov\t\tFirst Deputy Prime Minister, Spanish Govt.\n"
     ]
    }
   ],
   "source": [
    "# print data\n",
    "print(data)"
   ]
  },
  {
   "cell_type": "code",
   "execution_count": 21,
   "metadata": {},
   "outputs": [],
   "source": [
    "# define search objects\n",
    "last_name = r'Love'\n",
    "first_name = r'Kenneth'"
   ]
  },
  {
   "cell_type": "code",
   "execution_count": 22,
   "metadata": {},
   "outputs": [
    {
     "name": "stdout",
     "output_type": "stream",
     "text": [
      "<_sre.SRE_Match object; span=(0, 4), match='Love'>\n"
     ]
    }
   ],
   "source": [
    "# regex match for 'Love'\n",
    "print(re.match(last_name, data))"
   ]
  },
  {
   "cell_type": "code",
   "execution_count": 23,
   "metadata": {},
   "outputs": [
    {
     "name": "stdout",
     "output_type": "stream",
     "text": [
      "None\n"
     ]
    }
   ],
   "source": [
    "# regex match for 'Kenneth'\n",
    "# match returns None as match searches from the start of the string\n",
    "print(re.match(first_name, data))"
   ]
  },
  {
   "cell_type": "code",
   "execution_count": 24,
   "metadata": {},
   "outputs": [
    {
     "name": "stdout",
     "output_type": "stream",
     "text": [
      "<_sre.SRE_Match object; span=(6, 13), match='Kenneth'>\n"
     ]
    }
   ],
   "source": [
    "# regex search for 'Kenneth'\n",
    "print(re.search(first_name, data))"
   ]
  },
  {
   "cell_type": "code",
   "execution_count": 28,
   "metadata": {},
   "outputs": [
    {
     "name": "stdout",
     "output_type": "stream",
     "text": [
      "<_sre.SRE_Match object; span=(3, 7), match='e, K'>\n"
     ]
    }
   ],
   "source": [
    "# \\w matches word characters\n",
    "print(re.search(r'\\w, \\w', data))"
   ]
  },
  {
   "cell_type": "code",
   "execution_count": 29,
   "metadata": {},
   "outputs": [
    {
     "name": "stdout",
     "output_type": "stream",
     "text": [
      "<_sre.SRE_Match object; span=(46, 54), match='555-5555'>\n"
     ]
    }
   ],
   "source": [
    "# \\d matches numeric characters to get first phone number\n",
    "print(re.search(r'\\d\\d\\d-\\d\\d\\d\\d', data))"
   ]
  },
  {
   "cell_type": "code",
   "execution_count": 33,
   "metadata": {},
   "outputs": [
    {
     "name": "stdout",
     "output_type": "stream",
     "text": [
      "<_sre.SRE_Match object; span=(603, 615), match='555 555-5551'>\n"
     ]
    }
   ],
   "source": [
    "# get first area code and first phone number\n",
    "print(re.search(r'(\\d\\d\\d) \\d\\d\\d-\\d\\d\\d\\d', data))"
   ]
  },
  {
   "cell_type": "code",
   "execution_count": null,
   "metadata": {},
   "outputs": [],
   "source": []
  }
 ],
 "metadata": {
  "kernelspec": {
   "display_name": "Python 3",
   "language": "python",
   "name": "python3"
  },
  "language_info": {
   "codemirror_mode": {
    "name": "ipython",
    "version": 3
   },
   "file_extension": ".py",
   "mimetype": "text/x-python",
   "name": "python",
   "nbconvert_exporter": "python",
   "pygments_lexer": "ipython3",
   "version": "3.6.5"
  }
 },
 "nbformat": 4,
 "nbformat_minor": 2
}
