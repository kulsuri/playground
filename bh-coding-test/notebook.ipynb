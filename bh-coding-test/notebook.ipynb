{
 "cells": [
  {
   "cell_type": "markdown",
   "metadata": {},
   "source": [
    "### Import Modules"
   ]
  },
  {
   "cell_type": "code",
   "execution_count": 1,
   "metadata": {},
   "outputs": [],
   "source": [
    "import pandas as pd"
   ]
  },
  {
   "cell_type": "markdown",
   "metadata": {},
   "source": [
    "### Q1\n",
    "![image info](./q1.png)"
   ]
  },
  {
   "cell_type": "markdown",
   "metadata": {},
   "source": [
    "Test Data"
   ]
  },
  {
   "cell_type": "code",
   "execution_count": 51,
   "metadata": {},
   "outputs": [],
   "source": [
    "records = [\"1, ks, 99\", \"2, ac, 75\", \"3, pm, 54\", \"4, lm, 42\", \"5, nm, 33\", \"6, sl, 89\", \"7, aj, 78\"]\n",
    "queries = [1,3,4,6,7,9]"
   ]
  },
  {
   "cell_type": "markdown",
   "metadata": {},
   "source": [
    "Function"
   ]
  },
  {
   "cell_type": "code",
   "execution_count": 69,
   "metadata": {},
   "outputs": [],
   "source": [
    "def examResults(records, queries):\n",
    "\n",
    "    # assuming cannot use pandas dataframe so not continuing with this\n",
    "    records_df = pd.DataFrame(data=[row.split(\",\") for row in records[:]], columns=[\"ID\", \"NAME\", \"SCORE\"]).set_index(\"ID\")\n",
    "\n",
    "    # empty dict\n",
    "    records_dict = {}\n",
    "\n",
    "    # loop through records and add to dict where key is ID\n",
    "    for i in records:\n",
    "        arr = i.split(\", \")\n",
    "        records_dict[arr[0]] = [arr[1], arr[2]]\n",
    "\n",
    "    # loop through dict and drop records where score < 60\n",
    "    for i in list(records_dict):\n",
    "        if int(records_dict[i][1]) < 60:\n",
    "            records_dict.pop(i)\n",
    "    \n",
    "    # empy list to hold results\n",
    "    res = []\n",
    "\n",
    "    # loop through queries list\n",
    "    # if element in dict keys then append dict value to res\n",
    "    # else append -1\n",
    "    for i in queries:\n",
    "        if str(i) in records_dict:\n",
    "            res.append(int(records_dict[str(i)][1]))\n",
    "        else:\n",
    "            res.append(-1)\n",
    "\n",
    "    return res"
   ]
  },
  {
   "cell_type": "markdown",
   "metadata": {},
   "source": [
    "Result"
   ]
  },
  {
   "cell_type": "code",
   "execution_count": 71,
   "metadata": {},
   "outputs": [
    {
     "data": {
      "text/plain": [
       "[99, -1, -1, 89, 78, -1]"
      ]
     },
     "execution_count": 71,
     "metadata": {},
     "output_type": "execute_result"
    }
   ],
   "source": [
    "examResults(records, queries)"
   ]
  },
  {
   "cell_type": "markdown",
   "metadata": {},
   "source": [
    "### Q2\n",
    "![image info](./q2.png)"
   ]
  },
  {
   "cell_type": "markdown",
   "metadata": {},
   "source": [
    "example 1 = [5,1,3,2,4]\n",
    "output = [1,5,3,4,2]\n",
    "\n",
    "example 2 = [4,1,3,1,4]\n",
    "output =    [1,4,3,5,2]\n",
    "\n",
    "example 3 = [5,5,3,1,3,2,4]\n",
    "output = [1,2,6,4,5,3]"
   ]
  },
  {
   "cell_type": "markdown",
   "metadata": {},
   "source": [
    "Test Data"
   ]
  },
  {
   "cell_type": "code",
   "execution_count": 72,
   "metadata": {},
   "outputs": [],
   "source": [
    "example_1 = [5,1,3,2,4] # output = [1,5,3,4,2]\n",
    "example_2 = [4,1,3,1,4] # output = [1,4,3,5,2]\n",
    "example_3 = [5,5,1,3,2,4] # output = 1,2,6,4,5,3]\n",
    "example_4 = [5,5,5,1,3,2,4] # output = [1,2,3,7,5,6,4]"
   ]
  },
  {
   "cell_type": "markdown",
   "metadata": {},
   "source": [
    "Function"
   ]
  },
  {
   "cell_type": "code",
   "execution_count": 73,
   "metadata": {},
   "outputs": [],
   "source": [
    "def computeRank(arr):\n",
    "    sorted_arr = sorted(arr, reverse=True)\n",
    "    d1 = dict(enumerate(arr))\n",
    "    d2 = {i + 1: v for i, v in enumerate(sorted_arr)}\n",
    "    res = []\n",
    "    for v1 in arr:\n",
    "        for k in d2:\n",
    "            if v1 == d2[k]:\n",
    "                res.append(k)\n",
    "                del d2[k]\n",
    "                break\n",
    "    return res"
   ]
  },
  {
   "cell_type": "markdown",
   "metadata": {},
   "source": [
    "Result"
   ]
  },
  {
   "cell_type": "code",
   "execution_count": 74,
   "metadata": {},
   "outputs": [
    {
     "name": "stdout",
     "output_type": "stream",
     "text": [
      "[1, 5, 3, 4, 2]\n",
      "[1, 4, 3, 5, 2]\n",
      "[1, 2, 6, 4, 5, 3]\n",
      "[1, 2, 3, 7, 5, 6, 4]\n"
     ]
    }
   ],
   "source": [
    "print(computeRank(example_1))\n",
    "print(computeRank(example_2))\n",
    "print(computeRank(example_3))\n",
    "print(computeRank(example_4))"
   ]
  },
  {
   "cell_type": "markdown",
   "metadata": {},
   "source": [
    "### Q3\n",
    "![image info](./q3.png)"
   ]
  },
  {
   "cell_type": "markdown",
   "metadata": {},
   "source": [
    "Test Data"
   ]
  },
  {
   "cell_type": "code",
   "execution_count": 88,
   "metadata": {},
   "outputs": [],
   "source": [
    "table1 = [[1, 70], [2, 75], [7, 90], [4, 85], [5, 100], [6, 60]]\n",
    "table2 = [[\"ab\", 1, \"m\", 9], [\"ac\", 2, \"f\", 9], [\"bc\", 7, \"f\", 11], [\"bd\", 4, \"f\", 8], [\"be\", 5, \"m\", 9], [\"bf\", 6, \"m\", 7], [\"bg\", 9, \"m\", 8]]"
   ]
  },
  {
   "cell_type": "markdown",
   "metadata": {},
   "source": [
    "Function"
   ]
  },
  {
   "cell_type": "code",
   "execution_count": 148,
   "metadata": {},
   "outputs": [],
   "source": [
    "def averageScore():\n",
    "    # data\n",
    "    table1 = [[1, 70], [2, 75], [7, 90], [4, 85], [5, 100], [6, 60]]\n",
    "    table2 = [[\"ab\", 1, \"m\", 9], [\"ac\", 2, \"f\", 9], [\"bc\", 7, \"f\", 11], [\"bd\", 4, \"f\", 8], [\"be\", 5, \"m\", 9], [\"bf\", 6, \"m\", 7], [\"bg\", 9, \"m\", 8]]\n",
    "\n",
    "    # turn tables into df\n",
    "    df1 = pd.DataFrame(table1, columns = [\"ID\", \"GRADE\"])\n",
    "    df2 = pd.DataFrame(table2, columns = [\"NAME\",\"ID\",\"GENDER\",\"AGE\"])\n",
    "\n",
    "    # re-index dataframes on ID\n",
    "    df1.set_index(\"ID\", inplace=True)\n",
    "    df2.set_index(\"ID\", inplace=True)\n",
    "\n",
    "    # join two dataframes on ID linking GRADE with NAME, GENDER, AGE via ID\n",
    "    df3 = df1.join(df2)\n",
    "\n",
    "    # calculate mean of GRADE based on conditions AGE < 10 and GENDER\n",
    "    m = df3.loc[(df3[\"AGE\"] < 10) & (df3[\"GENDER\"] == 'm'), \"GRADE\"].mean()\n",
    "    f = df3.loc[(df3[\"AGE\"] < 10) & (df3[\"GENDER\"] == 'f'), \"GRADE\"].mean()\n",
    "\n",
    "    # convert data type from float to int\n",
    "    return [int(m), int(f)]"
   ]
  },
  {
   "cell_type": "markdown",
   "metadata": {},
   "source": [
    "Result"
   ]
  },
  {
   "cell_type": "code",
   "execution_count": 149,
   "metadata": {},
   "outputs": [
    {
     "data": {
      "text/plain": [
       "[76, 80]"
      ]
     },
     "execution_count": 149,
     "metadata": {},
     "output_type": "execute_result"
    }
   ],
   "source": [
    "averageScore()"
   ]
  },
  {
   "cell_type": "markdown",
   "metadata": {},
   "source": [
    "### Q4\n",
    "![image info](./q4.png)"
   ]
  },
  {
   "cell_type": "markdown",
   "metadata": {},
   "source": [
    "Test Data"
   ]
  },
  {
   "cell_type": "code",
   "execution_count": null,
   "metadata": {},
   "outputs": [],
   "source": [
    "ric1 = 'ABCU1'\n",
    "ric2 = 'BC1Z12'\n",
    "ric3 = 'CADJPY=5'\n",
    "ric4 = ''"
   ]
  },
  {
   "cell_type": "markdown",
   "metadata": {},
   "source": [
    "Function"
   ]
  },
  {
   "cell_type": "markdown",
   "metadata": {},
   "source": [
    "Result"
   ]
  },
  {
   "cell_type": "markdown",
   "metadata": {},
   "source": []
  }
 ],
 "metadata": {
  "kernelspec": {
   "display_name": "Python 3.10.5 ('env': venv)",
   "language": "python",
   "name": "python3"
  },
  "language_info": {
   "codemirror_mode": {
    "name": "ipython",
    "version": 3
   },
   "file_extension": ".py",
   "mimetype": "text/x-python",
   "name": "python",
   "nbconvert_exporter": "python",
   "pygments_lexer": "ipython3",
   "version": "3.10.5"
  },
  "orig_nbformat": 4,
  "vscode": {
   "interpreter": {
    "hash": "72352e60633583983315f219aa376896a96ec4252205a64d28cbdbd37061a973"
   }
  }
 },
 "nbformat": 4,
 "nbformat_minor": 2
}
