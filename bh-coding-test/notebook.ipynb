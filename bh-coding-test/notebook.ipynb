{
 "cells": [
  {
   "cell_type": "markdown",
   "metadata": {},
   "source": [
    "### Import Modules"
   ]
  },
  {
   "cell_type": "code",
   "execution_count": 1,
   "metadata": {},
   "outputs": [],
   "source": [
    "import pandas as pd"
   ]
  },
  {
   "cell_type": "markdown",
   "metadata": {},
   "source": [
    "### Q1\n",
    "![image info](./q1.png)"
   ]
  },
  {
   "cell_type": "code",
   "execution_count": 98,
   "metadata": {},
   "outputs": [],
   "source": [
    "records = [\"1, ks, 99\", \"2, ac, 75\", \"3, pm, 54\", \"4, lm, 42\", \"5, nm, 33\", \"6, sl, 89\", \"7, aj, 78\"]\n",
    "queries = [1,3,4,6,7,9]"
   ]
  },
  {
   "cell_type": "code",
   "execution_count": 97,
   "metadata": {},
   "outputs": [],
   "source": [
    "def examResults(records, queries):\n",
    "    \n",
    "    records_df = pd.DataFrame(data=[row.split(\",\") for row in records[0:]], columns=[\"ID\", \"NAME\", \"SCORE\"]).set_index(\"ID\")\n",
    "\n",
    "\n",
    "    return None"
   ]
  },
  {
   "cell_type": "code",
   "execution_count": 127,
   "metadata": {},
   "outputs": [
    {
     "name": "stdout",
     "output_type": "stream",
     "text": [
      "   NAME SCORE\n",
      "ID           \n",
      "1    ks    99\n",
      "2    ac    75\n",
      "3    pm    54\n",
      "4    lm    42\n",
      "5    nm    33\n",
      "6    sl    89\n",
      "7    aj    78\n"
     ]
    }
   ],
   "source": [
    "df = pd.DataFrame(data=[row.split(\",\") for row in records[0:]], columns=[\"ID\", \"NAME\", \"SCORE\"]).set_index(\"ID\")\n",
    "\n",
    "print(df)"
   ]
  },
  {
   "cell_type": "markdown",
   "metadata": {},
   "source": [
    "### Q2\n",
    "![image info](./q2.png)"
   ]
  },
  {
   "cell_type": "markdown",
   "metadata": {},
   "source": [
    "example 1 = [5,1,3,2,4]\n",
    "output = [1,5,3,4,2]\n",
    "\n",
    "example 2 = [4,1,3,1,4]\n",
    "output =    [1,4,3,5,2]\n",
    "\n",
    "example 3 = [5,5,3,1,3,2,4]\n",
    "output = [1,2,6,4,5,3]"
   ]
  },
  {
   "cell_type": "code",
   "execution_count": 90,
   "metadata": {},
   "outputs": [],
   "source": [
    "example_1 = [5,1,3,2,4]\n",
    "example_2 = [4,1,3,1,4]\n",
    "example_3 = [5,5,1,3,2,4]\n",
    "example_4 = [5,5,5,1,3,2,4]"
   ]
  },
  {
   "cell_type": "code",
   "execution_count": 95,
   "metadata": {},
   "outputs": [],
   "source": [
    "def computeRank(arr):\n",
    "    sorted_arr = sorted(arr, reverse=True)\n",
    "    d1 = dict(enumerate(arr))\n",
    "    d2 = {i + 1: v for i, v in enumerate(sorted_arr)}\n",
    "    res = []\n",
    "    for v1 in arr:\n",
    "        for k in d2:\n",
    "            if v1 == d2[k]:\n",
    "                res.append(k)\n",
    "                del d2[k]\n",
    "                break\n",
    "    return res"
   ]
  },
  {
   "cell_type": "code",
   "execution_count": 96,
   "metadata": {},
   "outputs": [
    {
     "name": "stdout",
     "output_type": "stream",
     "text": [
      "[1, 5, 3, 4, 2]\n",
      "[1, 4, 3, 5, 2]\n",
      "[1, 2, 6, 4, 5, 3]\n",
      "[1, 2, 3, 7, 5, 6, 4]\n"
     ]
    }
   ],
   "source": [
    "print(computeRank(example_1))\n",
    "print(computeRank(example_2))\n",
    "print(computeRank(example_3))\n",
    "print(computeRank(example_4))"
   ]
  },
  {
   "cell_type": "code",
   "execution_count": null,
   "metadata": {},
   "outputs": [],
   "source": []
  }
 ],
 "metadata": {
  "kernelspec": {
   "display_name": "Python 3.9.13 ('env': venv)",
   "language": "python",
   "name": "python3"
  },
  "language_info": {
   "codemirror_mode": {
    "name": "ipython",
    "version": 3
   },
   "file_extension": ".py",
   "mimetype": "text/x-python",
   "name": "python",
   "nbconvert_exporter": "python",
   "pygments_lexer": "ipython3",
   "version": "3.9.13"
  },
  "orig_nbformat": 4,
  "vscode": {
   "interpreter": {
    "hash": "1a7592344d4b4b723d5e449bb895b243b9914a5d97d9d3109e059b5c81a51195"
   }
  }
 },
 "nbformat": 4,
 "nbformat_minor": 2
}
